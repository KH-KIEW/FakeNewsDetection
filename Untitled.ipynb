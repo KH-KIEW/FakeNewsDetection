{
 "cells": [
  {
   "cell_type": "code",
   "execution_count": 4,
   "id": "df3f2737-09a4-4f56-9cf5-61213a20c191",
   "metadata": {},
   "outputs": [
    {
     "data": {
      "text/html": [
       "<div>\n",
       "<style scoped>\n",
       "    .dataframe tbody tr th:only-of-type {\n",
       "        vertical-align: middle;\n",
       "    }\n",
       "\n",
       "    .dataframe tbody tr th {\n",
       "        vertical-align: top;\n",
       "    }\n",
       "\n",
       "    .dataframe thead th {\n",
       "        text-align: right;\n",
       "    }\n",
       "</style>\n",
       "<table border=\"1\" class=\"dataframe\">\n",
       "  <thead>\n",
       "    <tr style=\"text-align: right;\">\n",
       "      <th></th>\n",
       "      <th>URLs</th>\n",
       "      <th>Headline</th>\n",
       "      <th>Body</th>\n",
       "      <th>Label</th>\n",
       "    </tr>\n",
       "  </thead>\n",
       "  <tbody>\n",
       "    <tr>\n",
       "      <th>0</th>\n",
       "      <td>http://www.bbc.com/news/world-us-canada-414191...</td>\n",
       "      <td>Four ways Bob Corker skewered Donald Trump</td>\n",
       "      <td>Image copyright Getty Images\\nOn Sunday mornin...</td>\n",
       "      <td>1</td>\n",
       "    </tr>\n",
       "    <tr>\n",
       "      <th>1</th>\n",
       "      <td>https://www.reuters.com/article/us-filmfestiva...</td>\n",
       "      <td>Linklater's war veteran comedy speaks to moder...</td>\n",
       "      <td>LONDON (Reuters) - “Last Flag Flying”, a comed...</td>\n",
       "      <td>1</td>\n",
       "    </tr>\n",
       "    <tr>\n",
       "      <th>2</th>\n",
       "      <td>https://www.nytimes.com/2017/10/09/us/politics...</td>\n",
       "      <td>Trump’s Fight With Corker Jeopardizes His Legi...</td>\n",
       "      <td>The feud broke into public view last week when...</td>\n",
       "      <td>1</td>\n",
       "    </tr>\n",
       "    <tr>\n",
       "      <th>3</th>\n",
       "      <td>https://www.reuters.com/article/us-mexico-oil-...</td>\n",
       "      <td>Egypt's Cheiron wins tie-up with Pemex for Mex...</td>\n",
       "      <td>MEXICO CITY (Reuters) - Egypt’s Cheiron Holdin...</td>\n",
       "      <td>1</td>\n",
       "    </tr>\n",
       "    <tr>\n",
       "      <th>4</th>\n",
       "      <td>http://www.cnn.com/videos/cnnmoney/2017/10/08/...</td>\n",
       "      <td>Jason Aldean opens 'SNL' with Vegas tribute</td>\n",
       "      <td>Country singer Jason Aldean, who was performin...</td>\n",
       "      <td>1</td>\n",
       "    </tr>\n",
       "    <tr>\n",
       "      <th>5</th>\n",
       "      <td>http://beforeitsnews.com/sports/2017/09/jetnat...</td>\n",
       "      <td>JetNation FanDuel League; Week 4</td>\n",
       "      <td>JetNation FanDuel League; Week 4\\n% of readers...</td>\n",
       "      <td>0</td>\n",
       "    </tr>\n",
       "    <tr>\n",
       "      <th>6</th>\n",
       "      <td>https://www.nytimes.com/2017/10/10/us/politics...</td>\n",
       "      <td>Kansas Tried a Tax Plan Similar to Trump’s. It...</td>\n",
       "      <td>In 2012, Kansas lawmakers, led by Gov. Sam Bro...</td>\n",
       "      <td>1</td>\n",
       "    </tr>\n",
       "    <tr>\n",
       "      <th>7</th>\n",
       "      <td>https://www.reuters.com/article/us-india-cenba...</td>\n",
       "      <td>India RBI chief: growth important, but not at ...</td>\n",
       "      <td>The Reserve Bank of India (RBI) Governor Urjit...</td>\n",
       "      <td>1</td>\n",
       "    </tr>\n",
       "    <tr>\n",
       "      <th>8</th>\n",
       "      <td>https://www.reuters.com/article/us-climatechan...</td>\n",
       "      <td>EPA chief to sign rule on Clean Power Plan exi...</td>\n",
       "      <td>Scott Pruitt, Administrator of the U.S. Enviro...</td>\n",
       "      <td>1</td>\n",
       "    </tr>\n",
       "    <tr>\n",
       "      <th>9</th>\n",
       "      <td>https://www.reuters.com/article/us-air-berlin-...</td>\n",
       "      <td>Talks on sale of Air Berlin planes to easyJet ...</td>\n",
       "      <td>FILE PHOTO - An Air Berlin sign is seen at an ...</td>\n",
       "      <td>1</td>\n",
       "    </tr>\n",
       "  </tbody>\n",
       "</table>\n",
       "</div>"
      ],
      "text/plain": [
       "                                                URLs  \\\n",
       "0  http://www.bbc.com/news/world-us-canada-414191...   \n",
       "1  https://www.reuters.com/article/us-filmfestiva...   \n",
       "2  https://www.nytimes.com/2017/10/09/us/politics...   \n",
       "3  https://www.reuters.com/article/us-mexico-oil-...   \n",
       "4  http://www.cnn.com/videos/cnnmoney/2017/10/08/...   \n",
       "5  http://beforeitsnews.com/sports/2017/09/jetnat...   \n",
       "6  https://www.nytimes.com/2017/10/10/us/politics...   \n",
       "7  https://www.reuters.com/article/us-india-cenba...   \n",
       "8  https://www.reuters.com/article/us-climatechan...   \n",
       "9  https://www.reuters.com/article/us-air-berlin-...   \n",
       "\n",
       "                                            Headline  \\\n",
       "0         Four ways Bob Corker skewered Donald Trump   \n",
       "1  Linklater's war veteran comedy speaks to moder...   \n",
       "2  Trump’s Fight With Corker Jeopardizes His Legi...   \n",
       "3  Egypt's Cheiron wins tie-up with Pemex for Mex...   \n",
       "4        Jason Aldean opens 'SNL' with Vegas tribute   \n",
       "5                   JetNation FanDuel League; Week 4   \n",
       "6  Kansas Tried a Tax Plan Similar to Trump’s. It...   \n",
       "7  India RBI chief: growth important, but not at ...   \n",
       "8  EPA chief to sign rule on Clean Power Plan exi...   \n",
       "9  Talks on sale of Air Berlin planes to easyJet ...   \n",
       "\n",
       "                                                Body  Label  \n",
       "0  Image copyright Getty Images\\nOn Sunday mornin...      1  \n",
       "1  LONDON (Reuters) - “Last Flag Flying”, a comed...      1  \n",
       "2  The feud broke into public view last week when...      1  \n",
       "3  MEXICO CITY (Reuters) - Egypt’s Cheiron Holdin...      1  \n",
       "4  Country singer Jason Aldean, who was performin...      1  \n",
       "5  JetNation FanDuel League; Week 4\\n% of readers...      0  \n",
       "6  In 2012, Kansas lawmakers, led by Gov. Sam Bro...      1  \n",
       "7  The Reserve Bank of India (RBI) Governor Urjit...      1  \n",
       "8  Scott Pruitt, Administrator of the U.S. Enviro...      1  \n",
       "9  FILE PHOTO - An Air Berlin sign is seen at an ...      1  "
      ]
     },
     "execution_count": 4,
     "metadata": {},
     "output_type": "execute_result"
    }
   ],
   "source": [
    "import numpy as np\n",
    "import pandas as pd\n",
    "import matplotlib.pyplot as plt\n",
    "import matplotlib\n",
    "import seaborn as sns\n",
    "import itertools\n",
    "from sklearn.model_selection import train_test_split\n",
    "from sklearn.feature_extraction.text import TfidfVectorizer\n",
    "from sklearn.linear_model import PassiveAggressiveClassifier\n",
    "from sklearn.metrics import accuracy_score, confusion_matrix\n",
    "\n",
    "import itertools as it\n",
    "from sklearn.model_selection import train_test_split\n",
    "import numpy as np\n",
    "import pandas as pd\n",
    "import os\n",
    "#for dirname, _, filenames in os.walk('data.csv'):\n",
    "    #for filename in filenames:\n",
    "        #print(os.path.join(dirname, filename))\n",
    "my_data = pd.read_csv('data.csv')\n",
    "my_data.head(10)\n",
    "\n"
   ]
  },
  {
   "cell_type": "code",
   "execution_count": 5,
   "id": "3ef966e8-4c9f-4093-9eeb-3e0d33b4aac3",
   "metadata": {},
   "outputs": [
    {
     "data": {
      "text/plain": [
       "0    1\n",
       "1    1\n",
       "2    1\n",
       "3    1\n",
       "4    1\n",
       "Name: Label, dtype: int64"
      ]
     },
     "execution_count": 5,
     "metadata": {},
     "output_type": "execute_result"
    }
   ],
   "source": [
    "labels=my_data.Label\n",
    "labels.head()\n"
   ]
  },
  {
   "cell_type": "code",
   "execution_count": 6,
   "id": "0ae5c7df-2a08-4288-b17c-988fd95a7477",
   "metadata": {},
   "outputs": [
    {
     "data": {
      "text/plain": [
       "Label\n",
       "0    2137\n",
       "1    1872\n",
       "Name: count, dtype: int64"
      ]
     },
     "execution_count": 6,
     "metadata": {},
     "output_type": "execute_result"
    }
   ],
   "source": [
    "Labels_count=my_data.Label.value_counts()\n",
    "Labels_count"
   ]
  },
  {
   "cell_type": "code",
   "execution_count": 70,
   "id": "e92ae636-a2eb-4793-916b-0b287e49f1c8",
   "metadata": {},
   "outputs": [
    {
     "name": "stderr",
     "output_type": "stream",
     "text": [
      "C:\\Users\\THANUJA\\AppData\\Local\\Programs\\Python\\Python310\\lib\\site-packages\\seaborn\\_oldcore.py:1498: FutureWarning: is_categorical_dtype is deprecated and will be removed in a future version. Use isinstance(dtype, CategoricalDtype) instead\n",
      "  if pd.api.types.is_categorical_dtype(vector):\n",
      "C:\\Users\\THANUJA\\AppData\\Local\\Programs\\Python\\Python310\\lib\\site-packages\\seaborn\\_oldcore.py:1498: FutureWarning: is_categorical_dtype is deprecated and will be removed in a future version. Use isinstance(dtype, CategoricalDtype) instead\n",
      "  if pd.api.types.is_categorical_dtype(vector):\n",
      "C:\\Users\\THANUJA\\AppData\\Local\\Programs\\Python\\Python310\\lib\\site-packages\\seaborn\\_oldcore.py:1498: FutureWarning: is_categorical_dtype is deprecated and will be removed in a future version. Use isinstance(dtype, CategoricalDtype) instead\n",
      "  if pd.api.types.is_categorical_dtype(vector):\n"
     ]
    },
    {
     "data": {
      "image/png": "[encoded data removed]",
      "text/plain": [
       "<Figure size 640x480 with 1 Axes>"
      ]
     },
     "metadata": {},
     "output_type": "display_data"
    }
   ],
   "source": [
    "sns.countplot(x ='Label', data = my_data)\n",
    "plt.title('TYPE OF NEWS');"
   ]
  },
  {
   "cell_type": "code",
   "execution_count": 7,
   "id": "b9afcfa8-007d-4c5c-9042-614e31d91c48",
   "metadata": {},
   "outputs": [
    {
     "data": {
      "text/plain": [
       "0       1\n",
       "1       1\n",
       "2       1\n",
       "3       1\n",
       "4       1\n",
       "       ..\n",
       "4004    0\n",
       "4005    0\n",
       "4006    0\n",
       "4007    1\n",
       "4008    0\n",
       "Name: New_Label, Length: 4009, dtype: object"
      ]
     },
     "execution_count": 7,
     "metadata": {},
     "output_type": "execute_result"
    }
   ],
   "source": [
    "my_data['New_Label'] = my_data['Label'].map(str)\n",
    "my_data['New_Label']"
   ]
  },
  {
   "cell_type": "code",
   "execution_count": 72,
   "id": "b027b24e-0f4d-4e51-945e-757151bfde24",
   "metadata": {},
   "outputs": [
    {
     "data": {
      "text/html": [
       "<div>\n",
       "<style scoped>\n",
       "    .dataframe tbody tr th:only-of-type {\n",
       "        vertical-align: middle;\n",
       "    }\n",
       "\n",
       "    .dataframe tbody tr th {\n",
       "        vertical-align: top;\n",
       "    }\n",
       "\n",
       "    .dataframe thead th {\n",
       "        text-align: right;\n",
       "    }\n",
       "</style>\n",
       "<table border=\"1\" class=\"dataframe\">\n",
       "  <thead>\n",
       "    <tr style=\"text-align: right;\">\n",
       "      <th></th>\n",
       "      <th>URLs</th>\n",
       "      <th>Headline</th>\n",
       "      <th>Body</th>\n",
       "      <th>Label</th>\n",
       "      <th>New_Label</th>\n",
       "    </tr>\n",
       "  </thead>\n",
       "  <tbody>\n",
       "    <tr>\n",
       "      <th>0</th>\n",
       "      <td>http://www.bbc.com/news/world-us-canada-414191...</td>\n",
       "      <td>Four ways Bob Corker skewered Donald Trump</td>\n",
       "      <td>Image copyright Getty Images\\nOn Sunday mornin...</td>\n",
       "      <td>1</td>\n",
       "      <td>1</td>\n",
       "    </tr>\n",
       "    <tr>\n",
       "      <th>1</th>\n",
       "      <td>https://www.reuters.com/article/us-filmfestiva...</td>\n",
       "      <td>Linklater's war veteran comedy speaks to moder...</td>\n",
       "      <td>LONDON (Reuters) - “Last Flag Flying”, a comed...</td>\n",
       "      <td>1</td>\n",
       "      <td>1</td>\n",
       "    </tr>\n",
       "    <tr>\n",
       "      <th>2</th>\n",
       "      <td>https://www.nytimes.com/2017/10/09/us/politics...</td>\n",
       "      <td>Trump’s Fight With Corker Jeopardizes His Legi...</td>\n",
       "      <td>The feud broke into public view last week when...</td>\n",
       "      <td>1</td>\n",
       "      <td>1</td>\n",
       "    </tr>\n",
       "    <tr>\n",
       "      <th>3</th>\n",
       "      <td>https://www.reuters.com/article/us-mexico-oil-...</td>\n",
       "      <td>Egypt's Cheiron wins tie-up with Pemex for Mex...</td>\n",
       "      <td>MEXICO CITY (Reuters) - Egypt’s Cheiron Holdin...</td>\n",
       "      <td>1</td>\n",
       "      <td>1</td>\n",
       "    </tr>\n",
       "    <tr>\n",
       "      <th>4</th>\n",
       "      <td>http://www.cnn.com/videos/cnnmoney/2017/10/08/...</td>\n",
       "      <td>Jason Aldean opens 'SNL' with Vegas tribute</td>\n",
       "      <td>Country singer Jason Aldean, who was performin...</td>\n",
       "      <td>1</td>\n",
       "      <td>1</td>\n",
       "    </tr>\n",
       "  </tbody>\n",
       "</table>\n",
       "</div>"
      ],
      "text/plain": [
       "                                                URLs  \\\n",
       "0  http://www.bbc.com/news/world-us-canada-414191...   \n",
       "1  https://www.reuters.com/article/us-filmfestiva...   \n",
       "2  https://www.nytimes.com/2017/10/09/us/politics...   \n",
       "3  https://www.reuters.com/article/us-mexico-oil-...   \n",
       "4  http://www.cnn.com/videos/cnnmoney/2017/10/08/...   \n",
       "\n",
       "                                            Headline  \\\n",
       "0         Four ways Bob Corker skewered Donald Trump   \n",
       "1  Linklater's war veteran comedy speaks to moder...   \n",
       "2  Trump’s Fight With Corker Jeopardizes His Legi...   \n",
       "3  Egypt's Cheiron wins tie-up with Pemex for Mex...   \n",
       "4        Jason Aldean opens 'SNL' with Vegas tribute   \n",
       "\n",
       "                                                Body  Label New_Label  \n",
       "0  Image copyright Getty Images\\nOn Sunday mornin...      1         1  \n",
       "1  LONDON (Reuters) - “Last Flag Flying”, a comed...      1         1  \n",
       "2  The feud broke into public view last week when...      1         1  \n",
       "3  MEXICO CITY (Reuters) - Egypt’s Cheiron Holdin...      1         1  \n",
       "4  Country singer Jason Aldean, who was performin...      1         1  "
      ]
     },
     "execution_count": 72,
     "metadata": {},
     "output_type": "execute_result"
    }
   ],
   "source": [
    "my_data.head()"
   ]
  },
  {
   "cell_type": "code",
   "execution_count": 8,
   "id": "0609f66d-d51c-4fe5-855c-169263eb1b4b",
   "metadata": {},
   "outputs": [],
   "source": [
    "my_data['Body'] = my_data['Body'].map(str)"
   ]
  },
  {
   "cell_type": "code",
   "execution_count": 9,
   "id": "89fd257c-1310-41b0-b92f-cbdbe2b875f6",
   "metadata": {},
   "outputs": [],
   "source": [
    "my_data['Body'] = my_data['Body'].apply(str.lower)\n",
    "#my_data['Body']\n"
   ]
  },
  {
   "cell_type": "code",
   "execution_count": 10,
   "id": "9887efa5-f3b0-47ac-b287-1f2afa566d5b",
   "metadata": {},
   "outputs": [
    {
     "data": {
      "text/plain": [
       "356     (cnn) rapper eminem unleashed a blistering fou...\n",
       "2699    the bills that will make it easier for people ...\n",
       "1151    (cnn) — inhale the pine-scented air, plunge in...\n",
       "3614    no getting around it, the war is coming! trump...\n",
       "2011    an exhibit about the vietnam war is seen at th...\n",
       "                              ...                        \n",
       "1603    swiss authorities said wednesday that a german...\n",
       "2550    warning something big is about to happen in am...\n",
       "537     harrison ford, ryan gosling, ana de armas and ...\n",
       "1220    tunis/rome (reuters) - at least eight people d...\n",
       "175     hangover win\\n% of readers think this story is...\n",
       "Name: Body, Length: 3207, dtype: object"
      ]
     },
     "execution_count": 10,
     "metadata": {},
     "output_type": "execute_result"
    }
   ],
   "source": [
    "x_train,x_test,y_train,y_test=train_test_split(my_data['Body'], labels, test_size=0.2, random_state=7)\n",
    "x_train\n",
    "#len(y_test)\n"
   ]
  },
  {
   "cell_type": "code",
   "execution_count": 11,
   "id": "748e7c23-fce3-42dd-b9a5-f269fa119cf3",
   "metadata": {},
   "outputs": [
    {
     "data": {
      "text/plain": [
       "414     the nationals, on the other hand, claimed the ...\n",
       "378     the durham bulls in 2017 — part 2 — the pitche...\n",
       "658     sen. collins says ‘no’ to graham-cassidy healt...\n",
       "590     what is the perfect golf swing?\\n(before it's ...\n",
       "1602    mexico city (reuters) - gmexico transportes, t...\n",
       "                              ...                        \n",
       "3958    cairo/beirut (reuters) - a ceasefire deal for ...\n",
       "3123    by massprivatei\\neditor’s note: this is the mi...\n",
       "2682    no getting around it, the war is coming! trump...\n",
       "3875    by jake anderson\\nsomewhere in the world, a do...\n",
       "2230    image copyright reuters image caption oppositi...\n",
       "Name: Body, Length: 802, dtype: object"
      ]
     },
     "execution_count": 11,
     "metadata": {},
     "output_type": "execute_result"
    }
   ],
   "source": [
    "x_test\n",
    "\n"
   ]
  },
  {
   "cell_type": "code",
   "execution_count": 12,
   "id": "403f7f9c-4369-4c0c-ac5f-3bb01fc3f8ee",
   "metadata": {},
   "outputs": [
    {
     "data": {
      "text/plain": [
       "356     1\n",
       "2699    0\n",
       "1151    1\n",
       "3614    0\n",
       "2011    1\n",
       "       ..\n",
       "1603    1\n",
       "2550    0\n",
       "537     1\n",
       "1220    1\n",
       "175     0\n",
       "Name: Label, Length: 3207, dtype: int64"
      ]
     },
     "execution_count": 12,
     "metadata": {},
     "output_type": "execute_result"
    }
   ],
   "source": [
    "y_train"
   ]
  },
  {
   "cell_type": "code",
   "execution_count": 13,
   "id": "4b20ab56-e4be-4e73-b0c7-b0a99534517e",
   "metadata": {},
   "outputs": [
    {
     "data": {
      "text/plain": [
       "414     1\n",
       "378     0\n",
       "658     0\n",
       "590     0\n",
       "1602    1\n",
       "       ..\n",
       "3958    1\n",
       "3123    0\n",
       "2682    0\n",
       "3875    0\n",
       "2230    1\n",
       "Name: Label, Length: 802, dtype: int64"
      ]
     },
     "execution_count": 13,
     "metadata": {},
     "output_type": "execute_result"
    }
   ],
   "source": [
    "y_test"
   ]
  },
  {
   "cell_type": "code",
   "execution_count": 14,
   "id": "0877b0ab-58d3-49ac-866e-71c127d0de6c",
   "metadata": {},
   "outputs": [
    {
     "name": "stdout",
     "output_type": "stream",
     "text": [
      "  (0, 42361)\t0.07020872521456824\n",
      "  (0, 42156)\t0.0323448273257744\n",
      "  (0, 42147)\t0.05188631505720147\n",
      "  (0, 42078)\t0.022134879290770876\n",
      "  (0, 42071)\t0.03946887076880965\n",
      "  (0, 41807)\t0.022528799119491325\n",
      "  (0, 41744)\t0.028029376968486532\n",
      "  (0, 41629)\t0.0422198297547311\n",
      "  (0, 41312)\t0.029697761069842912\n",
      "  (0, 41168)\t0.049752232604175654\n",
      "  (0, 41152)\t0.03698334731404364\n",
      "  (0, 41145)\t0.023605700919717348\n",
      "  (0, 41081)\t0.0590438723609473\n",
      "  (0, 40926)\t0.043020854561297006\n",
      "  (0, 40579)\t0.029179849110538524\n",
      "  (0, 40464)\t0.03565196982446532\n",
      "  (0, 40408)\t0.07230769327764473\n",
      "  (0, 40054)\t0.0349617073481553\n",
      "  (0, 39277)\t0.03963454007045996\n",
      "  (0, 39108)\t0.02987693520535913\n",
      "  (0, 39067)\t0.037094011622276025\n",
      "  (0, 38520)\t0.027840192447732996\n",
      "  (0, 38328)\t0.04961388263616808\n",
      "  (0, 38317)\t0.0382932258803986\n",
      "  (0, 38191)\t0.04104814822893715\n",
      "  :\t:\n",
      "  (801, 8818)\t0.07689375496072573\n",
      "  (801, 8744)\t0.05179364885622518\n",
      "  (801, 8702)\t0.17317185247719225\n",
      "  (801, 8384)\t0.0646005993471563\n",
      "  (801, 8152)\t0.08023850424128395\n",
      "  (801, 8082)\t0.12881260720599316\n",
      "  (801, 7604)\t0.11278387572748967\n",
      "  (801, 7306)\t0.05881845949279834\n",
      "  (801, 7135)\t0.05461476560798564\n",
      "  (801, 6992)\t0.10481133148945307\n",
      "  (801, 6964)\t0.05537548820110046\n",
      "  (801, 6794)\t0.036730970164829055\n",
      "  (801, 6588)\t0.06001110969341309\n",
      "  (801, 6587)\t0.045160577858227385\n",
      "  (801, 6188)\t0.06132125079821348\n",
      "  (801, 5431)\t0.091515210192209\n",
      "  (801, 4484)\t0.05527798577159444\n",
      "  (801, 4435)\t0.11639864715305037\n",
      "  (801, 4035)\t0.05209613965215763\n",
      "  (801, 3985)\t0.04915694787006855\n",
      "  (801, 3140)\t0.10613666542369228\n",
      "  (801, 2446)\t0.06951642112780668\n",
      "  (801, 2381)\t0.05671265271031619\n",
      "  (801, 2379)\t0.047541753541873295\n",
      "  (801, 691)\t0.0503094097499539\n"
     ]
    }
   ],
   "source": [
    "tfidf_vectorizer=TfidfVectorizer(stop_words='english', max_df=0.7)\n",
    "tfidf_train=tfidf_vectorizer.fit_transform(x_train)\n",
    "tfidf_test=tfidf_vectorizer.transform(x_test)\n",
    "print(tfidf_test)"
   ]
  },
  {
   "cell_type": "code",
   "execution_count": 15,
   "id": "2d353660-7929-4783-98de-e046d01f2795",
   "metadata": {},
   "outputs": [
    {
     "name": "stdout",
     "output_type": "stream",
     "text": [
      "Accuracy: 98.5%\n"
     ]
    }
   ],
   "source": [
    "pac=PassiveAggressiveClassifier(max_iter=50)\n",
    "pac.fit(tfidf_train,y_train)\n",
    "#print(tfidf_test)\n",
    "y_pred=pac.predict(tfidf_test)\n",
    "score=accuracy_score(y_test,y_pred)\n",
    "print(f'Accuracy: {round(score*100,2)}%')"
   ]
  },
  {
   "cell_type": "code",
   "execution_count": 16,
   "id": "e7b90ab6-bfc2-4597-bb7e-9ce6f3dccf7e",
   "metadata": {},
   "outputs": [
    {
     "data": {
      "text/plain": [
       "array([[428,   6],\n",
       "       [  6, 362]], dtype=int64)"
      ]
     },
     "execution_count": 16,
     "metadata": {},
     "output_type": "execute_result"
    }
   ],
   "source": [
    "cm = confusion_matrix(y_test,y_pred)\n",
    "cm"
   ]
  },
  {
   "cell_type": "code",
   "execution_count": 17,
   "id": "7a8b9ad9-426f-469f-b8d3-bc5f69fc930a",
   "metadata": {},
   "outputs": [
    {
     "data": {
      "image/png": "[encoded data removed]",
      "text/plain": [
       "<Figure size 750x750 with 1 Axes>"
      ]
     },
     "metadata": {},
     "output_type": "display_data"
    }
   ],
   "source": [
    "fig, ax = plt.subplots(figsize=(7.5, 7.5))\n",
    "ax.matshow(cm, cmap=plt.cm.Blues, alpha=0.3)\n",
    "for i in range(cm.shape[0]):\n",
    "    for j in range(cm.shape[1]):\n",
    "        ax.text(x=j, y=i,s=cm[i, j], va='center', ha='center', size='xx-large')\n",
    " \n",
    "plt.xlabel('y_pred', fontsize=18)\n",
    "plt.ylabel('y_test', fontsize=18)\n",
    "plt.title('Confusion Matrix', fontsize=18)\n",
    "plt.show()"
   ]
  },
  {
   "cell_type": "code",
   "execution_count": 18,
   "id": "cb99d2f6-ffdb-42bb-9c89-892fa12d0bd0",
   "metadata": {},
   "outputs": [
    {
     "data": {
      "text/plain": [
       "['fakenews.pkl']"
      ]
     },
     "execution_count": 18,
     "metadata": {},
     "output_type": "execute_result"
    }
   ],
   "source": [
    "import joblib\n",
    "joblib.dump(pac, 'fakenews.pkl')\n"
   ]
  },
  {
   "cell_type": "code",
   "execution_count": 19,
   "id": "89204188-9729-4a2a-bae4-480cb2dd6340",
   "metadata": {},
   "outputs": [],
   "source": [
    "loaded_model = joblib.load('fakenews.pkl') \n"
   ]
  },
  {
   "cell_type": "code",
   "execution_count": null,
   "id": "ca645d40-8181-4668-ade9-c14558be85c2",
   "metadata": {},
   "outputs": [],
   "source": []
  },
  {
   "cell_type": "code",
   "execution_count": 20,
   "id": "fa132d4f-823a-4e19-8b30-8346e154034c",
   "metadata": {},
   "outputs": [],
   "source": [
    "my_data['Body'] = my_data['Body'].map(str)"
   ]
  },
  {
   "cell_type": "code",
   "execution_count": 28,
   "id": "4fd7503e-4058-4e3a-b6c0-fe74649469af",
   "metadata": {},
   "outputs": [],
   "source": [
    "my_data['Body'] = my_data['Body'].apply(str.lower)"
   ]
  },
  {
   "cell_type": "code",
   "execution_count": null,
   "id": "a7d8a01b-1a7c-4b6c-aed1-d4a71bdcef8c",
   "metadata": {},
   "outputs": [],
   "source": []
  }
 ],
 "metadata": {
  "kernelspec": {
   "display_name": "Python 3 (ipykernel)",
   "language": "python",
   "name": "python3"
  },
  "language_info": {
   "codemirror_mode": {
    "name": "ipython",
    "version": 3
   },
   "file_extension": ".py",
   "mimetype": "text/x-python",
   "name": "python",
   "nbconvert_exporter": "python",
   "pygments_lexer": "ipython3",
   "version": "3.10.0"
  }
 },
 "nbformat": 4,
 "nbformat_minor": 5
}
